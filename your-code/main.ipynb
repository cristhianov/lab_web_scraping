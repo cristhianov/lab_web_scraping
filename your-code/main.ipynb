{
 "cells": [
  {
   "cell_type": "markdown",
   "metadata": {},
   "source": [
    "# Web Scraping Lab\n",
    "\n",
    "You will find in this notebook some scrapy exercises to practise your scraping skills.\n",
    "\n",
    "**Tips:**\n",
    "\n",
    "- Check the response status code for each request to ensure you have obtained the intended contennt.\n",
    "- Print the response text in each request to understand the kind of info you are getting and its format.\n",
    "- Check for patterns in the response text to extract the data/info requested in each question.\n",
    "- Visit each url and take a look at its source through Chrome DevTools. You'll need to identify the html tags, special class names etc. used for the html content you are expected to extract."
   ]
  },
  {
   "cell_type": "markdown",
   "metadata": {},
   "source": [
    "- [Requests library](http://docs.python-requests.org/en/master/#the-user-guide) documentation \n",
    "- [Beautiful Soup Doc](https://www.crummy.com/software/BeautifulSoup/bs4/doc/)\n",
    "- [Urllib](https://docs.python.org/3/library/urllib.html#module-urllib)\n",
    "- [re lib](https://docs.python.org/3/library/re.html)\n",
    "- [lxml lib](https://lxml.de/)\n",
    "- [Scrapy](https://scrapy.org/)\n",
    "- [List of HTTP status codes](https://en.wikipedia.org/wiki/List_of_HTTP_status_codes)\n",
    "- [HTML basics](http://www.simplehtmlguide.com/cheatsheet.php)\n",
    "- [CSS basics](https://www.cssbasics.com/#page_start)"
   ]
  },
  {
   "cell_type": "markdown",
   "metadata": {},
   "source": [
    "#### Below are the libraries and modules you may need. `requests`,  `BeautifulSoup` and `pandas` are imported for you. If you prefer to use additional libraries feel free to uncomment them."
   ]
  },
  {
   "cell_type": "code",
   "execution_count": 2,
   "metadata": {},
   "outputs": [],
   "source": [
    "import requests\n",
    "from bs4 import BeautifulSoup\n",
    "import pandas as pd\n",
    "# from pprint import pprint\n",
    "# from lxml import html\n",
    "# from lxml.html import fromstring\n",
    "# import urllib.request\n",
    "# from urllib.request import urlopen\n",
    "# import random\n",
    "# import re\n",
    "# import scrapy\n",
    "\n",
    "from selenium.webdriver.common.keys import Keys\n",
    "from selenium.webdriver.common.action_chains import ActionChains\n",
    "from selenium import webdriver\n",
    "from selenium.webdriver.common.keys import Keys"
   ]
  },
  {
   "cell_type": "markdown",
   "metadata": {},
   "source": [
    "#### Download, parse (using BeautifulSoup), and print the content from the Trending Developers page from GitHub:"
   ]
  },
  {
   "cell_type": "code",
   "execution_count": 9,
   "metadata": {},
   "outputs": [],
   "source": [
    "# This is the url you will scrape in this exercise\n",
    "url = 'https://github.com/trending/developers'\n",
    "path = r'C:\\Program Files\\ChromeDriver\\chromedriver.exe'\n",
    "driver = webdriver.Chrome(path)\n",
    "response = requests.get(url)\n",
    "driver.get(url)\n",
    "page_source = driver.page_source\n",
    "driver.close()\n",
    "world_selection = BeautifulSoup(page_source, 'lxml')\n",
    "response\n",
    "\n",
    "\n",
    "\n",
    "names = world_selection.select('div h1[class=\\\"h3 lh-condensed\\\"]')\n",
    "user_name = world_selection.select('div p[class=\\\"f4 text-normal mb-1\\\"]')\n",
    "\n",
    "\n",
    "\n",
    "\n",
    "\n"
   ]
  },
  {
   "cell_type": "code",
   "execution_count": 14,
   "metadata": {},
   "outputs": [
    {
     "data": {
      "text/plain": [
       "['Anthony Fu',\n",
       " 'Zachary Rice',\n",
       " 'nick black',\n",
       " 'Tony Arcieri',\n",
       " 'Stephen Celis',\n",
       " 'Matthias Fey',\n",
       " 'Daniel Vaz Gaspar',\n",
       " 'Jaewoong Eum',\n",
       " 'Alon Zakai',\n",
       " 'Tim Arney',\n",
       " 'Vladimir Mihailenco',\n",
       " 'Hadley Wickham',\n",
       " 'Vasco Asturiano',\n",
       " 'Diego Muracciole',\n",
       " 'Kirk Byers',\n",
       " 'Dan Gohman',\n",
       " 'Lucas Servén Marín',\n",
       " 'Vben',\n",
       " 'Nuno Maduro',\n",
       " 'Ha Thach',\n",
       " 'Jesse Hills',\n",
       " 'Taner Şener',\n",
       " 'Fatih Arslan',\n",
       " 'Steven',\n",
       " 'Filippo Valsorda']"
      ]
     },
     "execution_count": 14,
     "metadata": {},
     "output_type": "execute_result"
    }
   ],
   "source": [
    "clean_name = [i.text.strip() for i in names]\n",
    "clean_name"
   ]
  },
  {
   "cell_type": "code",
   "execution_count": 15,
   "metadata": {},
   "outputs": [
    {
     "data": {
      "text/plain": [
       "['antfu',\n",
       " 'zricethezav',\n",
       " 'dankamongmen',\n",
       " 'tarcieri',\n",
       " 'stephencelis',\n",
       " 'rusty1s',\n",
       " 'dpgaspar',\n",
       " 'skydoves',\n",
       " 'kripken',\n",
       " 'timarney',\n",
       " 'vmihailenco',\n",
       " 'hadley',\n",
       " 'vasturiano',\n",
       " 'diegomura',\n",
       " 'ktbyers',\n",
       " 'sunfishcode',\n",
       " 'squat',\n",
       " 'anncwb',\n",
       " 'nunomaduro',\n",
       " 'hathach',\n",
       " 'jesserockz',\n",
       " 'tanersener',\n",
       " 'fatih',\n",
       " 'styfle',\n",
       " 'FiloSottile']"
      ]
     },
     "execution_count": 15,
     "metadata": {},
     "output_type": "execute_result"
    }
   ],
   "source": [
    "clean_nickname = [j.text.strip() for j in user_name]\n",
    "clean_nickname"
   ]
  },
  {
   "cell_type": "code",
   "execution_count": 22,
   "metadata": {},
   "outputs": [
    {
     "data": {
      "text/plain": [
       "['Anthony Fu (@antfu)',\n",
       " 'Zachary Rice (@zricethezav)',\n",
       " 'nick black (@dankamongmen)',\n",
       " 'Tony Arcieri (@tarcieri)',\n",
       " 'Stephen Celis (@stephencelis)',\n",
       " 'Matthias Fey (@rusty1s)',\n",
       " 'Daniel Vaz Gaspar (@dpgaspar)',\n",
       " 'Jaewoong Eum (@skydoves)',\n",
       " 'Alon Zakai (@kripken)',\n",
       " 'Tim Arney (@timarney)',\n",
       " 'Vladimir Mihailenco (@vmihailenco)',\n",
       " 'Hadley Wickham (@hadley)',\n",
       " 'Vasco Asturiano (@vasturiano)',\n",
       " 'Diego Muracciole (@diegomura)',\n",
       " 'Kirk Byers (@ktbyers)',\n",
       " 'Dan Gohman (@sunfishcode)',\n",
       " 'Lucas Servén Marín (@squat)',\n",
       " 'Vben (@anncwb)',\n",
       " 'Nuno Maduro (@nunomaduro)',\n",
       " 'Ha Thach (@hathach)',\n",
       " 'Jesse Hills (@jesserockz)',\n",
       " 'Taner Şener (@tanersener)',\n",
       " 'Fatih Arslan (@fatih)',\n",
       " 'Steven (@styfle)',\n",
       " 'Filippo Valsorda (@FiloSottile)']"
      ]
     },
     "execution_count": 22,
     "metadata": {},
     "output_type": "execute_result"
    }
   ],
   "source": [
    "trending_developers = [ (clean_name[k] + ' (@' + clean_nickname[k] + ')') for k in range(len(clean_nickname))]\n",
    "trending_developers"
   ]
  },
  {
   "cell_type": "markdown",
   "metadata": {},
   "source": [
    "#### Display the names of the trending developers retrieved in the previous step.\n",
    "\n",
    "Your output should be a Python list of developer names. Each name should not contain any html tag.\n",
    "\n",
    "**Instructions:**\n",
    "\n",
    "1. Find out the html tag and class names used for the developer names. You can achieve this using Chrome DevTools.\n",
    "\n",
    "1. Use BeautifulSoup to extract all the html elements that contain the developer names.\n",
    "\n",
    "1. Use string manipulation techniques to replace whitespaces and linebreaks (i.e. `\\n`) in the *text* of each html element. Use a list to store the clean names.\n",
    "\n",
    "1. Print the list of names.\n",
    "\n",
    "Your output should look like below:\n",
    "\n",
    "```\n",
    "['trimstray (@trimstray)',\n",
    " 'joewalnes (JoeWalnes)',\n",
    " 'charlax (Charles-AxelDein)',\n",
    " 'ForrestKnight (ForrestKnight)',\n",
    " 'revery-ui (revery-ui)',\n",
    " 'alibaba (Alibaba)',\n",
    " 'Microsoft (Microsoft)',\n",
    " 'github (GitHub)',\n",
    " 'facebook (Facebook)',\n",
    " 'boazsegev (Bo)',\n",
    " 'google (Google)',\n",
    " 'cloudfetch',\n",
    " 'sindresorhus (SindreSorhus)',\n",
    " 'tensorflow',\n",
    " 'apache (TheApacheSoftwareFoundation)',\n",
    " 'DevonCrawford (DevonCrawford)',\n",
    " 'ARMmbed (ArmMbed)',\n",
    " 'vuejs (vuejs)',\n",
    " 'fastai (fast.ai)',\n",
    " 'QiShaoXuan (Qi)',\n",
    " 'joelparkerhenderson (JoelParkerHenderson)',\n",
    " 'torvalds (LinusTorvalds)',\n",
    " 'CyC2018',\n",
    " 'komeiji-satori (神楽坂覚々)',\n",
    " 'script-8']\n",
    " ```"
   ]
  },
  {
   "cell_type": "code",
   "execution_count": 24,
   "metadata": {},
   "outputs": [
    {
     "data": {
      "text/plain": [
       "['Anthony Fu (@antfu)',\n",
       " 'Zachary Rice (@zricethezav)',\n",
       " 'nick black (@dankamongmen)',\n",
       " 'Tony Arcieri (@tarcieri)',\n",
       " 'Stephen Celis (@stephencelis)',\n",
       " 'Matthias Fey (@rusty1s)',\n",
       " 'Daniel Vaz Gaspar (@dpgaspar)',\n",
       " 'Jaewoong Eum (@skydoves)',\n",
       " 'Alon Zakai (@kripken)',\n",
       " 'Tim Arney (@timarney)',\n",
       " 'Vladimir Mihailenco (@vmihailenco)',\n",
       " 'Hadley Wickham (@hadley)',\n",
       " 'Vasco Asturiano (@vasturiano)',\n",
       " 'Diego Muracciole (@diegomura)',\n",
       " 'Kirk Byers (@ktbyers)',\n",
       " 'Dan Gohman (@sunfishcode)',\n",
       " 'Lucas Servén Marín (@squat)',\n",
       " 'Vben (@anncwb)',\n",
       " 'Nuno Maduro (@nunomaduro)',\n",
       " 'Ha Thach (@hathach)',\n",
       " 'Jesse Hills (@jesserockz)',\n",
       " 'Taner Şener (@tanersener)',\n",
       " 'Fatih Arslan (@fatih)',\n",
       " 'Steven (@styfle)',\n",
       " 'Filippo Valsorda (@FiloSottile)']"
      ]
     },
     "execution_count": 24,
     "metadata": {},
     "output_type": "execute_result"
    }
   ],
   "source": [
    "data_clean_one = [(i.text.strip() +' (@' + j.text.strip() + ')' ) for i,j in zip (names,user_name)]\n",
    "data_clean_one"
   ]
  },
  {
   "cell_type": "markdown",
   "metadata": {},
   "source": [
    "#### Display the trending Python repositories in GitHub\n",
    "\n",
    "The steps to solve this problem is similar to the previous one except that you need to find out the repository names instead of developer names."
   ]
  },
  {
   "cell_type": "code",
   "execution_count": 25,
   "metadata": {},
   "outputs": [],
   "source": [
    "# This is the url you will scrape in this exercise\n",
    "\n",
    "\n",
    "url = 'https://github.com/trending/python?since=daily'\n",
    "path = r'C:\\Program Files\\ChromeDriver\\chromedriver.exe'\n",
    "driver = webdriver.Chrome(path)\n",
    "response = requests.get(url)\n",
    "driver.get(url)\n",
    "page_source = driver.page_source\n",
    "driver.close()\n",
    "world_selection = BeautifulSoup(page_source, 'lxml')\n",
    "response\n",
    "\n",
    "\n",
    "\n",
    "repository_names = world_selection.select('div h1[class=\\\"h3 lh-condensed\\\"]')\n"
   ]
  },
  {
   "cell_type": "code",
   "execution_count": 32,
   "metadata": {},
   "outputs": [
    {
     "data": {
      "text/plain": [
       "['PaddlePaddle /\\n\\n      PaddleOCR',\n",
       " 'iperov /\\n\\n      DeepFaceLive',\n",
       " 'xinntao /\\n\\n      Real-ESRGAN',\n",
       " 'TheAlgorithms /\\n\\n      Python',\n",
       " 'ghealer /\\n\\n      GUI_Tools',\n",
       " 'huggingface /\\n\\n      datasets',\n",
       " 'jackfrued /\\n\\n      Python-100-Days',\n",
       " 'Vonng /\\n\\n      ddia',\n",
       " 'microsoft /\\n\\n      recommenders',\n",
       " 'beurtschipper /\\n\\n      Depix',\n",
       " 'apache /\\n\\n      airflow',\n",
       " 'dortania /\\n\\n      OpenCore-Legacy-Patcher',\n",
       " 'Tao0Lu /\\n\\n      Arknights_Anti-addiction_Cheater',\n",
       " 'freqtrade /\\n\\n      freqtrade',\n",
       " 'boston-dynamics /\\n\\n      spot-sdk',\n",
       " 'PaddlePaddle /\\n\\n      Paddle',\n",
       " 'OWASP /\\n\\n      Nettacker',\n",
       " 'aws /\\n\\n      serverless-application-model',\n",
       " 'andyzys /\\n\\n      jd_seckill',\n",
       " 'apache /\\n\\n      tvm',\n",
       " 'great-expectations /\\n\\n      great_expectations',\n",
       " 'xfangfang /\\n\\n      Macast',\n",
       " 'psf /\\n\\n      black',\n",
       " 'jwyang /\\n\\n      faster-rcnn.pytorch',\n",
       " 'milesial /\\n\\n      Pytorch-UNet']"
      ]
     },
     "execution_count": 32,
     "metadata": {},
     "output_type": "execute_result"
    }
   ],
   "source": [
    "#your code\n",
    "repositories = [j.text.strip() for j in repository_names]\n",
    "repositories\n"
   ]
  },
  {
   "cell_type": "code",
   "execution_count": 60,
   "metadata": {},
   "outputs": [
    {
     "data": {
      "text/plain": [
       "[\"['PaddlePaddle', 'PaddleOCR']\",\n",
       " \"['iperov', 'DeepFaceLive']\",\n",
       " \"['xinntao', 'Real-ESRGAN']\",\n",
       " \"['TheAlgorithms', 'Python']\",\n",
       " \"['ghealer', 'GUI_Tools']\",\n",
       " \"['huggingface', 'datasets']\",\n",
       " \"['jackfrued', 'Python-100-Days']\",\n",
       " \"['Vonng', 'ddia']\",\n",
       " \"['microsoft', 'recommenders']\",\n",
       " \"['beurtschipper', 'Depix']\",\n",
       " \"['apache', 'airflow']\",\n",
       " \"['dortania', 'OpenCore-Legacy-Patcher']\",\n",
       " \"['Tao0Lu', 'Arknights_Anti-addiction_Cheater']\",\n",
       " \"['freqtrade', 'freqtrade']\",\n",
       " \"['boston-dynamics', 'spot-sdk']\",\n",
       " \"['PaddlePaddle', 'Paddle']\",\n",
       " \"['OWASP', 'Nettacker']\",\n",
       " \"['aws', 'serverless-application-model']\",\n",
       " \"['andyzys', 'jd_seckill']\",\n",
       " \"['apache', 'tvm']\",\n",
       " \"['great-expectations', 'great_expectations']\",\n",
       " \"['xfangfang', 'Macast']\",\n",
       " \"['psf', 'black']\",\n",
       " \"['jwyang', 'faster-rcnn.pytorch']\",\n",
       " \"['milesial', 'Pytorch-UNet']\"]"
      ]
     },
     "execution_count": 60,
     "metadata": {},
     "output_type": "execute_result"
    }
   ],
   "source": [
    "clean_repository = []\n",
    "[(clean_repository.append(str(repositories[i].split(\" /\\n\\n      \"))) ) for i in range(len(repositories))]\n",
    "clean_repository\n"
   ]
  },
  {
   "cell_type": "markdown",
   "metadata": {},
   "source": [
    "#### Display all the image links from Walt Disney wikipedia page"
   ]
  },
  {
   "cell_type": "code",
   "execution_count": null,
   "metadata": {},
   "outputs": [],
   "source": [
    "# This is the url you will scrape in this exercise\n",
    "url = 'https://en.wikipedia.org/wiki/Walt_Disney'"
   ]
  },
  {
   "cell_type": "code",
   "execution_count": 63,
   "metadata": {},
   "outputs": [
    {
     "data": {
      "text/plain": [
       "<Response [200]>"
      ]
     },
     "execution_count": 63,
     "metadata": {},
     "output_type": "execute_result"
    }
   ],
   "source": [
    "#your code\n",
    "\n",
    "url = 'https://en.wikipedia.org/wiki/Walt_Disney'\n",
    "path = r'C:\\Program Files\\ChromeDriver\\chromedriver.exe'\n",
    "driver = webdriver.Chrome(path)\n",
    "response = requests.get(url)\n",
    "driver.get(url)\n",
    "page_source = driver.page_source\n",
    "driver.close()\n",
    "world_selection = BeautifulSoup(page_source, 'lxml')\n",
    "response\n",
    "\n",
    "\n",
    "\n",
    "\n"
   ]
  },
  {
   "cell_type": "code",
   "execution_count": 76,
   "metadata": {},
   "outputs": [
    {
     "data": {
      "text/plain": [
       "['https://en.wikipedia.org/wiki/File:Walt_Disney_1946.JPG',\n",
       " 'https://en.wikipedia.org/wiki/File:Walt_Disney_1942_signature.svg',\n",
       " 'https://en.wikipedia.org/wiki/File:Walt_Disney_envelope_ca._1921.jpg',\n",
       " 'https://en.wikipedia.org/wiki/File:Trolley_Troubles_poster.jpg',\n",
       " 'https://en.wikipedia.org/wiki/File:Steamboat-willie.jpg',\n",
       " 'https://en.wikipedia.org/wiki/File:Walt_Disney_1935.jpg',\n",
       " 'https://en.wikipedia.org/wiki/File:Walt_Disney_Snow_white_1937_trailer_screenshot_(13).jpg',\n",
       " 'https://en.wikipedia.org/wiki/File:Disney_drawing_goofy.jpg',\n",
       " 'https://en.wikipedia.org/wiki/File:DisneySchiphol1951.jpg',\n",
       " 'https://en.wikipedia.org/wiki/File:WaltDisneyplansDisneylandDec1954.jpg',\n",
       " 'https://en.wikipedia.org/wiki/File:Walt_disney_portrait_right.jpg',\n",
       " 'https://en.wikipedia.org/wiki/File:Walt_Disney_Grave.JPG',\n",
       " 'https://en.wikipedia.org/wiki/File:Roy_O._Disney_with_Company_at_Press_Conference.jpg',\n",
       " 'https://en.wikipedia.org/wiki/File:Disney_Display_Case.JPG',\n",
       " 'https://en.wikipedia.org/wiki/File:Disney1968.jpg',\n",
       " 'https://en.wikipedia.org/wiki/File:Disneyland_Resort_logo.svg',\n",
       " 'https://en.wikipedia.org/wiki/File:Animation_disc.svg',\n",
       " 'https://en.wikipedia.org/wiki/File:P_vip.svg',\n",
       " 'https://en.wikipedia.org/wiki/File:Magic_Kingdom_castle.jpg',\n",
       " 'https://en.wikipedia.org/wiki/File:Video-x-generic.svg',\n",
       " 'https://en.wikipedia.org/wiki/File:Flag_of_Los_Angeles_County,_California.svg',\n",
       " 'https://en.wikipedia.org/wiki/File:Blank_television_set.svg',\n",
       " 'https://en.wikipedia.org/wiki/File:Flag_of_the_United_States.svg']"
      ]
     },
     "execution_count": 76,
     "metadata": {},
     "output_type": "execute_result"
    }
   ],
   "source": [
    "link='https://en.wikipedia.org'\n",
    "link_images = world_selection.select('a[class=\\\"image\\\"]')\n",
    "links_clean = [( link['href'] ) for link in link_images]\n",
    "links_clean_final = [( link + i ) for i in links_clean]\n",
    "links_clean_final\n"
   ]
  },
  {
   "cell_type": "markdown",
   "metadata": {},
   "source": [
    "#### Retrieve an arbitary Wikipedia page of \"Python\" and create a list of links on that page"
   ]
  },
  {
   "cell_type": "code",
   "execution_count": null,
   "metadata": {},
   "outputs": [],
   "source": [
    "# This is the url you will scrape in this exercise\n",
    "url ='https://en.wikipedia.org/wiki/Python' "
   ]
  },
  {
   "cell_type": "code",
   "execution_count": 77,
   "metadata": {},
   "outputs": [
    {
     "data": {
      "text/plain": [
       "<Response [200]>"
      ]
     },
     "execution_count": 77,
     "metadata": {},
     "output_type": "execute_result"
    }
   ],
   "source": [
    "#your code\n",
    "url = 'https://en.wikipedia.org/wiki/Python'\n",
    "path = r'C:\\Program Files\\ChromeDriver\\chromedriver.exe'\n",
    "driver = webdriver.Chrome(path)\n",
    "response = requests.get(url)\n",
    "driver.get(url)\n",
    "page_source = driver.page_source\n",
    "driver.close()\n",
    "world_selection = BeautifulSoup(page_source, 'lxml')\n",
    "response\n"
   ]
  },
  {
   "cell_type": "code",
   "execution_count": 84,
   "metadata": {},
   "outputs": [
    {
     "data": {
      "text/plain": [
       "['https://en.wikipedia.org/wiki/Pythons',\n",
       " 'https://en.wikipedia.org/wiki/Python_(genus)',\n",
       " 'https://en.wikipedia.org/w/index.php?title=Python&action=edit&section=1&editintro=Template:Disambig_editintro',\n",
       " 'https://en.wikipedia.org/wiki/Python_(programming_language)',\n",
       " 'https://en.wikipedia.org/wiki/CMU_Common_Lisp',\n",
       " 'https://en.wikipedia.org/wiki/PERQ#PERQ_3',\n",
       " 'https://en.wikipedia.org/w/index.php?title=Python&action=edit&section=2&editintro=Template:Disambig_editintro',\n",
       " 'https://en.wikipedia.org/wiki/Python_of_Aenus',\n",
       " 'https://en.wikipedia.org/wiki/Python_(painter)',\n",
       " 'https://en.wikipedia.org/wiki/Python_of_Byzantium',\n",
       " 'https://en.wikipedia.org/wiki/Python_of_Catana',\n",
       " 'https://en.wikipedia.org/wiki/Python_Anghelo',\n",
       " 'https://en.wikipedia.org/w/index.php?title=Python&action=edit&section=3&editintro=Template:Disambig_editintro',\n",
       " 'https://en.wikipedia.org/wiki/Python_(Efteling)',\n",
       " 'https://en.wikipedia.org/wiki/Python_(Busch_Gardens_Tampa_Bay)',\n",
       " 'https://en.wikipedia.org/wiki/Python_(Coney_Island,_Cincinnati,_Ohio)',\n",
       " 'https://en.wikipedia.org/w/index.php?title=Python&action=edit&section=4&editintro=Template:Disambig_editintro',\n",
       " 'https://en.wikipedia.org/wiki/Python_(automobile_maker)',\n",
       " 'https://en.wikipedia.org/wiki/Python_(Ford_prototype)',\n",
       " 'https://en.wikipedia.org/w/index.php?title=Python&action=edit&section=5&editintro=Template:Disambig_editintro',\n",
       " 'https://en.wikipedia.org/wiki/Python_(missile)',\n",
       " 'https://en.wikipedia.org/wiki/Python_(nuclear_primary)',\n",
       " 'https://en.wikipedia.org/wiki/Colt_Python',\n",
       " 'https://en.wikipedia.org/w/index.php?title=Python&action=edit&section=6&editintro=Template:Disambig_editintro',\n",
       " 'https://en.wikipedia.org/wiki/PYTHON',\n",
       " 'https://en.wikipedia.org/wiki/Python_(film)',\n",
       " 'https://en.wikipedia.org/wiki/Python_(mythology)',\n",
       " 'https://en.wikipedia.org/wiki/Monty_Python',\n",
       " 'https://en.wikipedia.org/wiki/Python_(Monty)_Pictures',\n",
       " 'https://en.wikipedia.org/w/index.php?title=Python&action=edit&section=7&editintro=Template:Disambig_editintro',\n",
       " 'https://en.wikipedia.org/wiki/Cython',\n",
       " 'https://en.wikipedia.org/wiki/Pyton',\n",
       " 'https://en.wikipedia.org/wiki/Pithon',\n",
       " 'https://en.wikipedia.org/wiki/File:Disambig_gray.svg',\n",
       " 'https://en.wikipedia.org/wiki/Help:Disambiguation',\n",
       " 'https://en.wikipedia.org/wiki/Help:Category',\n",
       " 'https://en.wikipedia.org/wiki/Category:Disambiguation_pages',\n",
       " 'https://en.wikipedia.org/wiki/Category:Human_name_disambiguation_pages',\n",
       " 'https://en.wikipedia.org/wiki/Category:Disambiguation_pages_with_given-name-holder_lists',\n",
       " 'https://en.wikipedia.org/wiki/Category:Disambiguation_pages_with_short_descriptions',\n",
       " 'https://en.wikipedia.org/wiki/Category:Short_description_is_different_from_Wikidata',\n",
       " 'https://en.wikipedia.org/wiki/Category:All_article_disambiguation_pages',\n",
       " 'https://en.wikipedia.org/wiki/Category:All_disambiguation_pages',\n",
       " 'https://en.wikipedia.org/wiki/Category:Animal_common_name_disambiguation_pages',\n",
       " 'https://en.wikipedia.org/wiki/Special:MyTalk',\n",
       " 'https://en.wikipedia.org/wiki/Special:MyContributions',\n",
       " 'https://en.wikipedia.org/w/index.php?title=Special:CreateAccount&returnto=Python',\n",
       " 'https://en.wikipedia.org/w/index.php?title=Special:UserLogin&returnto=Python',\n",
       " 'https://en.wikipedia.org/wiki/Python',\n",
       " 'https://en.wikipedia.org/wiki/Talk:Python',\n",
       " 'https://en.wikipedia.org/wiki/Python',\n",
       " 'https://en.wikipedia.org/w/index.php?title=Python&action=edit&editintro=Template:Disambig_editintro',\n",
       " 'https://en.wikipedia.org/w/index.php?title=Python&action=history',\n",
       " 'https://en.wikipedia.org/wiki/Main_Page',\n",
       " 'https://en.wikipedia.org/wiki/Main_Page',\n",
       " 'https://en.wikipedia.org/wiki/Wikipedia:Contents',\n",
       " 'https://en.wikipedia.org/wiki/Portal:Current_events',\n",
       " 'https://en.wikipedia.org/wiki/Special:Random',\n",
       " 'https://en.wikipedia.org/wiki/Wikipedia:About',\n",
       " 'https://en.wikipedia.org//en.wikipedia.org/wiki/Wikipedia:Contact_us',\n",
       " 'https://en.wikipedia.org/wiki/Help:Contents',\n",
       " 'https://en.wikipedia.org/wiki/Help:Introduction',\n",
       " 'https://en.wikipedia.org/wiki/Wikipedia:Community_portal',\n",
       " 'https://en.wikipedia.org/wiki/Special:RecentChanges',\n",
       " 'https://en.wikipedia.org/wiki/Wikipedia:File_Upload_Wizard',\n",
       " 'https://en.wikipedia.org/wiki/Special:WhatLinksHere/Python',\n",
       " 'https://en.wikipedia.org/wiki/Special:RecentChangesLinked/Python',\n",
       " 'https://en.wikipedia.org/wiki/Wikipedia:File_Upload_Wizard',\n",
       " 'https://en.wikipedia.org/wiki/Special:SpecialPages',\n",
       " 'https://en.wikipedia.org/w/index.php?title=Python&oldid=1042909873',\n",
       " 'https://en.wikipedia.org/w/index.php?title=Python&action=info',\n",
       " 'https://en.wikipedia.org/w/index.php?title=Special:CiteThisPage&page=Python&id=1042909873&wpFormIdentifier=titleform',\n",
       " 'https://en.wikipedia.org/w/index.php?title=Special:DownloadAsPdf&page=Python&action=show-download-screen',\n",
       " 'https://en.wikipedia.org/w/index.php?title=Python&printable=yes',\n",
       " 'https://en.wikipedia.org//en.wikipedia.org/wiki/Wikipedia:Text_of_Creative_Commons_Attribution-ShareAlike_3.0_Unported_License',\n",
       " 'https://en.wikipedia.org//creativecommons.org/licenses/by-sa/3.0/',\n",
       " 'https://en.wikipedia.org//foundation.wikimedia.org/wiki/Terms_of_Use',\n",
       " 'https://en.wikipedia.org//foundation.wikimedia.org/wiki/Privacy_policy',\n",
       " 'https://en.wikipedia.org//www.wikimediafoundation.org/',\n",
       " 'https://en.wikipedia.org/wiki/Wikipedia:About',\n",
       " 'https://en.wikipedia.org/wiki/Wikipedia:General_disclaimer',\n",
       " 'https://en.wikipedia.org//en.wikipedia.org/wiki/Wikipedia:Contact_us',\n",
       " 'https://en.wikipedia.org//en.m.wikipedia.org/w/index.php?title=Python&mobileaction=toggle_view_mobile']"
      ]
     },
     "execution_count": 84,
     "metadata": {},
     "output_type": "execute_result"
    }
   ],
   "source": [
    "link='https://en.wikipedia.org'\n",
    "\n",
    "link_pages = world_selection.select('a[href^=\\\"/\\\"]')\n",
    "links_clean = [( link['href'] ) for link in link_pages]\n",
    "links_clean_final = [( link + i ) for i in links_clean]\n",
    "links_clean_final\n",
    "\n"
   ]
  },
  {
   "cell_type": "markdown",
   "metadata": {},
   "source": [
    "#### Number of Titles that have changed in the United States Code since its last release point "
   ]
  },
  {
   "cell_type": "code",
   "execution_count": null,
   "metadata": {},
   "outputs": [],
   "source": [
    "# This is the url you will scrape in this exercise\n",
    "url = 'http://uscode.house.gov/download/download.shtml'"
   ]
  },
  {
   "cell_type": "code",
   "execution_count": 85,
   "metadata": {},
   "outputs": [
    {
     "data": {
      "text/plain": [
       "<Response [200]>"
      ]
     },
     "execution_count": 85,
     "metadata": {},
     "output_type": "execute_result"
    }
   ],
   "source": [
    "#your code\n",
    "url = 'http://uscode.house.gov/download/download.shtml'\n",
    "path = r'C:\\Program Files\\ChromeDriver\\chromedriver.exe'\n",
    "driver = webdriver.Chrome(path)\n",
    "response = requests.get(url)\n",
    "driver.get(url)\n",
    "page_source = driver.page_source\n",
    "driver.close()\n",
    "world_selection = BeautifulSoup(page_source, 'lxml')\n",
    "response"
   ]
  },
  {
   "cell_type": "code",
   "execution_count": 96,
   "metadata": {},
   "outputs": [
    {
     "data": {
      "text/plain": [
       "['Title 42 - The Public Health and Welfare']"
      ]
     },
     "execution_count": 96,
     "metadata": {},
     "output_type": "execute_result"
    }
   ],
   "source": [
    "bold_mark = world_selection.select('div[class=\\\"usctitlechanged\\\"]')\n",
    "clean_name = [i.text.strip() for i in bold_mark]\n",
    "clean_name"
   ]
  },
  {
   "cell_type": "markdown",
   "metadata": {},
   "source": [
    "#### A Python list with the top ten FBI's Most Wanted names "
   ]
  },
  {
   "cell_type": "code",
   "execution_count": 130,
   "metadata": {
    "scrolled": true
   },
   "outputs": [
    {
     "data": {
      "text/plain": [
       "<Response [200]>"
      ]
     },
     "execution_count": 130,
     "metadata": {},
     "output_type": "execute_result"
    }
   ],
   "source": [
    "# This is the url you will scrape in this exercise\n",
    "url = 'https://www.fbi.gov/wanted/topten'\n",
    "path = r'C:\\Program Files\\ChromeDriver\\chromedriver.exe'\n",
    "driver = webdriver.Chrome(path)\n",
    "response = requests.get(url)\n",
    "driver.get(url)\n",
    "page_source = driver.page_source\n",
    "driver.close()\n",
    "world_selection = BeautifulSoup(page_source, 'lxml')\n",
    "response"
   ]
  },
  {
   "cell_type": "code",
   "execution_count": 132,
   "metadata": {},
   "outputs": [
    {
     "data": {
      "text/plain": [
       "[('1', 'OCTAVIANO JUAREZ-CORRO'),\n",
       " ('2', 'EUGENE PALMER'),\n",
       " ('3', 'RAFAEL CARO-QUINTERO'),\n",
       " ('4', 'BHADRESHKUMAR CHETANBHAI PATEL'),\n",
       " ('5', 'ALEJANDRO ROSALES CASTILLO'),\n",
       " ('6', 'ROBERT WILLIAM FISHER'),\n",
       " ('7', 'ARNOLDO JIMENEZ'),\n",
       " ('8', 'JASON DEREK BROWN'),\n",
       " ('9', 'ALEXIS FLORES'),\n",
       " ('10', 'JOSE RODOLFO VILLARREAL-HERNANDEZ')]"
      ]
     },
     "execution_count": 132,
     "metadata": {},
     "output_type": "execute_result"
    }
   ],
   "source": [
    "#your code \n",
    "import pandas as pd\n",
    "fbi_names = world_selection.select('h3[class=\\\"title\\\"]')\n",
    "clean_name = [(str(j+1) , i.text.strip() ) for i,j in zip(fbi_names, range(len(fbi_names)))]\n",
    "clean_name"
   ]
  },
  {
   "cell_type": "code",
   "execution_count": 128,
   "metadata": {},
   "outputs": [
    {
     "data": {
      "text/html": [
       "<div>\n",
       "<style scoped>\n",
       "    .dataframe tbody tr th:only-of-type {\n",
       "        vertical-align: middle;\n",
       "    }\n",
       "\n",
       "    .dataframe tbody tr th {\n",
       "        vertical-align: top;\n",
       "    }\n",
       "\n",
       "    .dataframe thead th {\n",
       "        text-align: right;\n",
       "    }\n",
       "</style>\n",
       "<table border=\"1\" class=\"dataframe\">\n",
       "  <thead>\n",
       "    <tr style=\"text-align: right;\">\n",
       "      <th></th>\n",
       "      <th>Position</th>\n",
       "      <th>Name</th>\n",
       "    </tr>\n",
       "  </thead>\n",
       "  <tbody>\n",
       "    <tr>\n",
       "      <th>0</th>\n",
       "      <td>1</td>\n",
       "      <td>OCTAVIANO JUAREZ-CORRO</td>\n",
       "    </tr>\n",
       "    <tr>\n",
       "      <th>1</th>\n",
       "      <td>2</td>\n",
       "      <td>EUGENE PALMER</td>\n",
       "    </tr>\n",
       "    <tr>\n",
       "      <th>2</th>\n",
       "      <td>3</td>\n",
       "      <td>RAFAEL CARO-QUINTERO</td>\n",
       "    </tr>\n",
       "    <tr>\n",
       "      <th>3</th>\n",
       "      <td>4</td>\n",
       "      <td>BHADRESHKUMAR CHETANBHAI PATEL</td>\n",
       "    </tr>\n",
       "    <tr>\n",
       "      <th>4</th>\n",
       "      <td>5</td>\n",
       "      <td>ALEJANDRO ROSALES CASTILLO</td>\n",
       "    </tr>\n",
       "    <tr>\n",
       "      <th>5</th>\n",
       "      <td>6</td>\n",
       "      <td>ROBERT WILLIAM FISHER</td>\n",
       "    </tr>\n",
       "    <tr>\n",
       "      <th>6</th>\n",
       "      <td>7</td>\n",
       "      <td>ARNOLDO JIMENEZ</td>\n",
       "    </tr>\n",
       "    <tr>\n",
       "      <th>7</th>\n",
       "      <td>8</td>\n",
       "      <td>JASON DEREK BROWN</td>\n",
       "    </tr>\n",
       "    <tr>\n",
       "      <th>8</th>\n",
       "      <td>9</td>\n",
       "      <td>ALEXIS FLORES</td>\n",
       "    </tr>\n",
       "    <tr>\n",
       "      <th>9</th>\n",
       "      <td>10</td>\n",
       "      <td>JOSE RODOLFO VILLARREAL-HERNANDEZ</td>\n",
       "    </tr>\n",
       "  </tbody>\n",
       "</table>\n",
       "</div>"
      ],
      "text/plain": [
       "  Position                               Name\n",
       "0        1             OCTAVIANO JUAREZ-CORRO\n",
       "1        2                      EUGENE PALMER\n",
       "2        3               RAFAEL CARO-QUINTERO\n",
       "3        4     BHADRESHKUMAR CHETANBHAI PATEL\n",
       "4        5         ALEJANDRO ROSALES CASTILLO\n",
       "5        6              ROBERT WILLIAM FISHER\n",
       "6        7                    ARNOLDO JIMENEZ\n",
       "7        8                  JASON DEREK BROWN\n",
       "8        9                      ALEXIS FLORES\n",
       "9       10  JOSE RODOLFO VILLARREAL-HERNANDEZ"
      ]
     },
     "execution_count": 128,
     "metadata": {},
     "output_type": "execute_result"
    }
   ],
   "source": [
    "#para presentarlo en lista de Panda\n",
    "nice_panda=pd.DataFrame(list(clean_name),columns =['Position','Name'])\n",
    "nice_panda"
   ]
  },
  {
   "cell_type": "markdown",
   "metadata": {},
   "source": [
    "####  20 latest earthquakes info (date, time, latitude, longitude and region name) by the EMSC as a pandas dataframe"
   ]
  },
  {
   "cell_type": "code",
   "execution_count": 133,
   "metadata": {},
   "outputs": [
    {
     "data": {
      "text/plain": [
       "<Response [200]>"
      ]
     },
     "execution_count": 133,
     "metadata": {},
     "output_type": "execute_result"
    }
   ],
   "source": [
    "# This is the url you will scrape in this exercise\n",
    "url = 'https://www.emsc-csem.org/Earthquake/'\n",
    "\n",
    "url = 'https://www.emsc-csem.org/Earthquake/'\n",
    "path = r'C:\\Program Files\\ChromeDriver\\chromedriver.exe'\n",
    "driver = webdriver.Chrome(path)\n",
    "response = requests.get(url)\n",
    "driver.get(url)\n",
    "page_source = driver.page_source\n",
    "driver.close()\n",
    "world_selection = BeautifulSoup(page_source, 'lxml')\n",
    "response"
   ]
  },
  {
   "cell_type": "code",
   "execution_count": 170,
   "metadata": {},
   "outputs": [],
   "source": [
    "#your code\n",
    "earthquakes_data = world_selection.select('td>b>a')\n",
    "clean_data = [i.text.split() for i in earthquakes_data]\n",
    "#DataClean por Date and Time\n",
    "clean_data_date = [(clean_data[i][0]) for i in range(0,19)]\n",
    "clean_data_time = [(clean_data[j][1]) for j in range(0,19)]"
   ]
  },
  {
   "cell_type": "code",
   "execution_count": 179,
   "metadata": {},
   "outputs": [
    {
     "data": {
      "text/plain": [
       "[['38.56'],\n",
       " ['N'],\n",
       " ['119.41'],\n",
       " ['W'],\n",
       " ['2.2'],\n",
       " ['37.25'],\n",
       " ['N'],\n",
       " ['21.59'],\n",
       " ['E'],\n",
       " ['2.9'],\n",
       " ['39.94'],\n",
       " ['N'],\n",
       " ['3.43'],\n",
       " ['W'],\n",
       " ['1.6'],\n",
       " ['40.29'],\n",
       " ['S'],\n",
       " ['176.56'],\n",
       " ['E'],\n",
       " ['3.1'],\n",
       " ['35.61'],\n",
       " ['N'],\n",
       " ['3.35'],\n",
       " ['W'],\n",
       " ['2.1'],\n",
       " ['26.09'],\n",
       " ['N'],\n",
       " ['128.69'],\n",
       " ['E'],\n",
       " ['4.7'],\n",
       " ['35.43'],\n",
       " ['N'],\n",
       " ['3.76'],\n",
       " ['W'],\n",
       " ['3.4'],\n",
       " ['4.57'],\n",
       " ['S'],\n",
       " ['101.70'],\n",
       " ['E'],\n",
       " ['4.4'],\n",
       " ['35.43'],\n",
       " ['N'],\n",
       " ['3.59'],\n",
       " ['W'],\n",
       " ['2.3'],\n",
       " ['61.58'],\n",
       " ['N'],\n",
       " ['146.54'],\n",
       " ['W'],\n",
       " ['3.5'],\n",
       " ['23.21'],\n",
       " ['S'],\n",
       " ['66.62'],\n",
       " ['W'],\n",
       " ['3.4'],\n",
       " ['37.63'],\n",
       " ['S'],\n",
       " ['179.75'],\n",
       " ['E'],\n",
       " ['3.5'],\n",
       " ['19.18'],\n",
       " ['N'],\n",
       " ['155.47'],\n",
       " ['W'],\n",
       " ['2.1'],\n",
       " ['36.43'],\n",
       " ['N'],\n",
       " ['27.03'],\n",
       " ['E'],\n",
       " ['2.6'],\n",
       " ['16.80'],\n",
       " ['N'],\n",
       " ['61.18'],\n",
       " ['W'],\n",
       " ['5.0'],\n",
       " ['42.77'],\n",
       " ['N'],\n",
       " ['13.25'],\n",
       " ['E'],\n",
       " ['2.4'],\n",
       " ['15.48'],\n",
       " ['N'],\n",
       " ['96.83'],\n",
       " ['W'],\n",
       " ['4.0'],\n",
       " ['26.23'],\n",
       " ['S'],\n",
       " ['178.44'],\n",
       " ['E'],\n",
       " ['4.7'],\n",
       " ['1.84'],\n",
       " ['N'],\n",
       " ['126.49'],\n",
       " ['E'],\n",
       " ['3.4'],\n",
       " ['35.74'],\n",
       " ['N'],\n",
       " ['117.54'],\n",
       " ['W'],\n",
       " ['2.3'],\n",
       " ['35.63'],\n",
       " ['N'],\n",
       " ['3.55'],\n",
       " ['W'],\n",
       " ['1.9'],\n",
       " ['36.95'],\n",
       " ['N'],\n",
       " ['36.48'],\n",
       " ['E'],\n",
       " ['3.0'],\n",
       " ['19.21'],\n",
       " ['N'],\n",
       " ['155.43'],\n",
       " ['W'],\n",
       " ['2.2'],\n",
       " ['24.11'],\n",
       " ['S'],\n",
       " ['66.76'],\n",
       " ['W'],\n",
       " ['3.2'],\n",
       " ['37.64'],\n",
       " ['N'],\n",
       " ['80.92'],\n",
       " ['E'],\n",
       " ['4.5'],\n",
       " ['51.68'],\n",
       " ['N'],\n",
       " ['175.12'],\n",
       " ['W'],\n",
       " ['3.6'],\n",
       " ['36.70'],\n",
       " ['N'],\n",
       " ['71.13'],\n",
       " ['E'],\n",
       " ['4.5'],\n",
       " ['44.13'],\n",
       " ['N'],\n",
       " ['10.86'],\n",
       " ['E'],\n",
       " ['2.3'],\n",
       " ['37.73'],\n",
       " ['N'],\n",
       " ['15.12'],\n",
       " ['E'],\n",
       " ['2.3'],\n",
       " ['1.64'],\n",
       " ['N'],\n",
       " ['99.15'],\n",
       " ['E'],\n",
       " ['2.8'],\n",
       " ['19.14'],\n",
       " ['N'],\n",
       " ['155.45'],\n",
       " ['W'],\n",
       " ['2.1'],\n",
       " ['48.02'],\n",
       " ['N'],\n",
       " ['122.07'],\n",
       " ['W'],\n",
       " ['2.4'],\n",
       " ['35.44'],\n",
       " ['N'],\n",
       " ['3.61'],\n",
       " ['W'],\n",
       " ['2.5'],\n",
       " ['0.15'],\n",
       " ['N'],\n",
       " ['126.68'],\n",
       " ['E'],\n",
       " ['3.7'],\n",
       " ['17.96'],\n",
       " ['N'],\n",
       " ['66.22'],\n",
       " ['W'],\n",
       " ['3.1'],\n",
       " ['45.89'],\n",
       " ['N'],\n",
       " ['7.01'],\n",
       " ['E'],\n",
       " ['1.0'],\n",
       " ['40.21'],\n",
       " ['N'],\n",
       " ['42.75'],\n",
       " ['E'],\n",
       " ['2.5'],\n",
       " ['45.19'],\n",
       " ['N'],\n",
       " ['15.09'],\n",
       " ['E'],\n",
       " ['2.2'],\n",
       " ['39.67'],\n",
       " ['N'],\n",
       " ['20.40'],\n",
       " ['E'],\n",
       " ['2.2'],\n",
       " ['40.29'],\n",
       " ['N'],\n",
       " ['124.69'],\n",
       " ['W'],\n",
       " ['4.3'],\n",
       " ['17.66'],\n",
       " ['S'],\n",
       " ['178.66'],\n",
       " ['W'],\n",
       " ['4.5'],\n",
       " ['11.22'],\n",
       " ['N'],\n",
       " ['85.76'],\n",
       " ['W'],\n",
       " ['2.5'],\n",
       " ['16.73'],\n",
       " ['N'],\n",
       " ['99.74'],\n",
       " ['W'],\n",
       " ['3.5'],\n",
       " ['15.72'],\n",
       " ['N'],\n",
       " ['93.62'],\n",
       " ['W'],\n",
       " ['3.7'],\n",
       " ['44.08'],\n",
       " ['N'],\n",
       " ['128.66'],\n",
       " ['W'],\n",
       " ['3.2'],\n",
       " ['17.96'],\n",
       " ['N'],\n",
       " ['66.89'],\n",
       " ['W'],\n",
       " ['2.4'],\n",
       " ['17.95'],\n",
       " ['N'],\n",
       " ['66.88'],\n",
       " ['W'],\n",
       " ['2.4'],\n",
       " ['17.93'],\n",
       " ['N'],\n",
       " ['66.89'],\n",
       " ['W'],\n",
       " ['2.8'],\n",
       " ['3.19'],\n",
       " ['S'],\n",
       " ['129.40'],\n",
       " ['E'],\n",
       " ['3.1'],\n",
       " ['36.61'],\n",
       " ['N'],\n",
       " ['7.54'],\n",
       " ['W'],\n",
       " ['2.3']]"
      ]
     },
     "execution_count": 179,
     "metadata": {},
     "output_type": "execute_result"
    }
   ],
   "source": [
    "#DataClean por Latitud y Longitud / magnitud\n",
    "earthquakes_l=world_selection.select('td[class=\\\"tabev1\\\"],td[class=\\\"tabev2\\\"]')\n",
    "earthquakes_clean = [i.text.split() for i in earthquakes_l]\n",
    "earthquakes_clean"
   ]
  },
  {
   "cell_type": "code",
   "execution_count": 210,
   "metadata": {},
   "outputs": [
    {
     "data": {
      "text/html": [
       "<div>\n",
       "<style scoped>\n",
       "    .dataframe tbody tr th:only-of-type {\n",
       "        vertical-align: middle;\n",
       "    }\n",
       "\n",
       "    .dataframe tbody tr th {\n",
       "        vertical-align: top;\n",
       "    }\n",
       "\n",
       "    .dataframe thead th {\n",
       "        text-align: right;\n",
       "    }\n",
       "</style>\n",
       "<table border=\"1\" class=\"dataframe\">\n",
       "  <thead>\n",
       "    <tr style=\"text-align: right;\">\n",
       "      <th></th>\n",
       "      <th>Date</th>\n",
       "      <th>Time</th>\n",
       "      <th>Latitude</th>\n",
       "      <th>Longitud</th>\n",
       "      <th>Mag[+]</th>\n",
       "    </tr>\n",
       "  </thead>\n",
       "  <tbody>\n",
       "    <tr>\n",
       "      <th>0</th>\n",
       "      <td>2021-09-10</td>\n",
       "      <td>02:29:58.0</td>\n",
       "      <td>38.56 N</td>\n",
       "      <td>119.41 W</td>\n",
       "      <td>[2.2]</td>\n",
       "    </tr>\n",
       "    <tr>\n",
       "      <th>1</th>\n",
       "      <td>2021-09-10</td>\n",
       "      <td>02:27:02.9</td>\n",
       "      <td>37.25 N</td>\n",
       "      <td>21.59 E</td>\n",
       "      <td>[2.9]</td>\n",
       "    </tr>\n",
       "    <tr>\n",
       "      <th>2</th>\n",
       "      <td>2021-09-10</td>\n",
       "      <td>02:21:33.9</td>\n",
       "      <td>39.94 N</td>\n",
       "      <td>3.43 W</td>\n",
       "      <td>[1.6]</td>\n",
       "    </tr>\n",
       "    <tr>\n",
       "      <th>3</th>\n",
       "      <td>2021-09-10</td>\n",
       "      <td>02:19:29.5</td>\n",
       "      <td>40.29 S</td>\n",
       "      <td>176.56 E</td>\n",
       "      <td>[3.1]</td>\n",
       "    </tr>\n",
       "    <tr>\n",
       "      <th>4</th>\n",
       "      <td>2021-09-10</td>\n",
       "      <td>02:06:48.3</td>\n",
       "      <td>35.61 N</td>\n",
       "      <td>3.35 W</td>\n",
       "      <td>[2.1]</td>\n",
       "    </tr>\n",
       "    <tr>\n",
       "      <th>5</th>\n",
       "      <td>2021-09-10</td>\n",
       "      <td>02:01:25.4</td>\n",
       "      <td>26.09 N</td>\n",
       "      <td>128.69 E</td>\n",
       "      <td>[4.7]</td>\n",
       "    </tr>\n",
       "    <tr>\n",
       "      <th>6</th>\n",
       "      <td>2021-09-10</td>\n",
       "      <td>01:53:38.6</td>\n",
       "      <td>35.43 N</td>\n",
       "      <td>3.76 W</td>\n",
       "      <td>[3.4]</td>\n",
       "    </tr>\n",
       "    <tr>\n",
       "      <th>7</th>\n",
       "      <td>2021-09-10</td>\n",
       "      <td>01:42:21.4</td>\n",
       "      <td>4.57 S</td>\n",
       "      <td>101.70 E</td>\n",
       "      <td>[4.4]</td>\n",
       "    </tr>\n",
       "    <tr>\n",
       "      <th>8</th>\n",
       "      <td>2021-09-10</td>\n",
       "      <td>01:38:30.6</td>\n",
       "      <td>35.43 N</td>\n",
       "      <td>3.59 W</td>\n",
       "      <td>[2.3]</td>\n",
       "    </tr>\n",
       "    <tr>\n",
       "      <th>9</th>\n",
       "      <td>2021-09-10</td>\n",
       "      <td>01:26:42.6</td>\n",
       "      <td>61.58 N</td>\n",
       "      <td>146.54 W</td>\n",
       "      <td>[3.5]</td>\n",
       "    </tr>\n",
       "    <tr>\n",
       "      <th>10</th>\n",
       "      <td>2021-09-10</td>\n",
       "      <td>01:15:40.0</td>\n",
       "      <td>23.21 S</td>\n",
       "      <td>66.62 W</td>\n",
       "      <td>[3.4]</td>\n",
       "    </tr>\n",
       "    <tr>\n",
       "      <th>11</th>\n",
       "      <td>2021-09-10</td>\n",
       "      <td>01:06:02.4</td>\n",
       "      <td>37.63 S</td>\n",
       "      <td>179.75 E</td>\n",
       "      <td>[3.5]</td>\n",
       "    </tr>\n",
       "    <tr>\n",
       "      <th>12</th>\n",
       "      <td>2021-09-10</td>\n",
       "      <td>00:58:44.1</td>\n",
       "      <td>19.18 N</td>\n",
       "      <td>155.47 W</td>\n",
       "      <td>[2.1]</td>\n",
       "    </tr>\n",
       "    <tr>\n",
       "      <th>13</th>\n",
       "      <td>2021-09-10</td>\n",
       "      <td>00:52:01.8</td>\n",
       "      <td>36.43 N</td>\n",
       "      <td>27.03 E</td>\n",
       "      <td>[2.6]</td>\n",
       "    </tr>\n",
       "    <tr>\n",
       "      <th>14</th>\n",
       "      <td>2021-09-10</td>\n",
       "      <td>00:43:19.0</td>\n",
       "      <td>16.80 N</td>\n",
       "      <td>61.18 W</td>\n",
       "      <td>[5.0]</td>\n",
       "    </tr>\n",
       "    <tr>\n",
       "      <th>15</th>\n",
       "      <td>2021-09-10</td>\n",
       "      <td>00:37:08.1</td>\n",
       "      <td>42.77 N</td>\n",
       "      <td>13.25 E</td>\n",
       "      <td>[2.4]</td>\n",
       "    </tr>\n",
       "    <tr>\n",
       "      <th>16</th>\n",
       "      <td>2021-09-10</td>\n",
       "      <td>00:27:06.0</td>\n",
       "      <td>15.48 N</td>\n",
       "      <td>96.83 W</td>\n",
       "      <td>[4.0]</td>\n",
       "    </tr>\n",
       "    <tr>\n",
       "      <th>17</th>\n",
       "      <td>2021-09-10</td>\n",
       "      <td>00:21:01.4</td>\n",
       "      <td>26.23 S</td>\n",
       "      <td>178.44 E</td>\n",
       "      <td>[4.7]</td>\n",
       "    </tr>\n",
       "    <tr>\n",
       "      <th>18</th>\n",
       "      <td>2021-09-10</td>\n",
       "      <td>00:20:54.0</td>\n",
       "      <td>1.84 N</td>\n",
       "      <td>126.49 E</td>\n",
       "      <td>[3.4]</td>\n",
       "    </tr>\n",
       "  </tbody>\n",
       "</table>\n",
       "</div>"
      ],
      "text/plain": [
       "          Date        Time Latitude  Longitud Mag[+]\n",
       "0   2021-09-10  02:29:58.0  38.56 N  119.41 W  [2.2]\n",
       "1   2021-09-10  02:27:02.9  37.25 N   21.59 E  [2.9]\n",
       "2   2021-09-10  02:21:33.9  39.94 N    3.43 W  [1.6]\n",
       "3   2021-09-10  02:19:29.5  40.29 S  176.56 E  [3.1]\n",
       "4   2021-09-10  02:06:48.3  35.61 N    3.35 W  [2.1]\n",
       "5   2021-09-10  02:01:25.4  26.09 N  128.69 E  [4.7]\n",
       "6   2021-09-10  01:53:38.6  35.43 N    3.76 W  [3.4]\n",
       "7   2021-09-10  01:42:21.4   4.57 S  101.70 E  [4.4]\n",
       "8   2021-09-10  01:38:30.6  35.43 N    3.59 W  [2.3]\n",
       "9   2021-09-10  01:26:42.6  61.58 N  146.54 W  [3.5]\n",
       "10  2021-09-10  01:15:40.0  23.21 S   66.62 W  [3.4]\n",
       "11  2021-09-10  01:06:02.4  37.63 S  179.75 E  [3.5]\n",
       "12  2021-09-10  00:58:44.1  19.18 N  155.47 W  [2.1]\n",
       "13  2021-09-10  00:52:01.8  36.43 N   27.03 E  [2.6]\n",
       "14  2021-09-10  00:43:19.0  16.80 N   61.18 W  [5.0]\n",
       "15  2021-09-10  00:37:08.1  42.77 N   13.25 E  [2.4]\n",
       "16  2021-09-10  00:27:06.0  15.48 N   96.83 W  [4.0]\n",
       "17  2021-09-10  00:21:01.4  26.23 S  178.44 E  [4.7]\n",
       "18  2021-09-10  00:20:54.0   1.84 N  126.49 E  [3.4]"
      ]
     },
     "execution_count": 210,
     "metadata": {},
     "output_type": "execute_result"
    }
   ],
   "source": [
    "# Latitud\n",
    "earthquakes_lat = [(earthquakes_clean[i] + earthquakes_clean[j]) for i,j in zip((range(0,len(earthquakes_clean),5)),(range(1,len(earthquakes_clean),5)))]\n",
    "earthquakes_lat_final = [(earthquakes_lat[i][0] + ' ' + earthquakes_lat[i][1]) for i in range(0,19)]\n",
    "earthquakes_lat_final\n",
    "\n",
    "# Longitud\n",
    "earthquakes_lon = [(earthquakes_clean[i] + earthquakes_clean[j]) for i,j in zip((range(2,len(earthquakes_clean),5)),(range(3,len(earthquakes_clean),5)))]\n",
    "earthquakes_lon_final = [(earthquakes_lon[i][0] + ' ' + earthquakes_lon[i][1]) for i in range(0,19)]\n",
    "earthquakes_lon_final\n",
    "\n",
    "# Magnitud \n",
    "earthquakes_mag = [(earthquakes_clean[i]) for i in range(4,len(earthquakes_clean),5)]\n",
    "earthquakes_mag_final = [earthquakes_mag[i] for i in range(0,20) ]\n",
    "earthquakes_mag_final\n",
    "\n",
    "#para presentarlo en lista de Panda\n",
    "nice_panda=pd.DataFrame(list(zip(clean_data_date,clean_data_time,earthquakes_lat_final,earthquakes_lon_final,earthquakes_mag_final)),columns =['Date','Time','Latitude', 'Longitud', 'Mag[+]'])\n",
    "nice_panda\n"
   ]
  },
  {
   "cell_type": "markdown",
   "metadata": {},
   "source": [
    "#### Display the date, days, title, city, country of next 25 hackathon events as a Pandas dataframe table"
   ]
  },
  {
   "cell_type": "code",
   "execution_count": null,
   "metadata": {},
   "outputs": [],
   "source": []
  },
  {
   "cell_type": "code",
   "execution_count": null,
   "metadata": {},
   "outputs": [],
   "source": [
    "# This is the url you will scrape in this exercise\n",
    "url ='https://hackevents.co/hackathons'"
   ]
  },
  {
   "cell_type": "code",
   "execution_count": null,
   "metadata": {},
   "outputs": [],
   "source": [
    "#your code"
   ]
  },
  {
   "cell_type": "markdown",
   "metadata": {},
   "source": [
    "#### Count number of tweets by a given Twitter account."
   ]
  },
  {
   "cell_type": "markdown",
   "metadata": {},
   "source": [
    "You will need to include a ***try/except block*** for account names not found. \n",
    "<br>***Hint:*** the program should count the number of tweets for any provided account"
   ]
  },
  {
   "cell_type": "code",
   "execution_count": 211,
   "metadata": {},
   "outputs": [
    {
     "data": {
      "text/plain": [
       "'https://twitter.com/MantUtd'"
      ]
     },
     "execution_count": 211,
     "metadata": {},
     "output_type": "execute_result"
    }
   ],
   "source": [
    "# This is the url you will scrape in this exercise \n",
    "# You will need to add the account credentials to this url\n",
    "url = 'https://twitter.com/'\n",
    "user = 'MantUtd'\n",
    "\n",
    "total_url = str(url + user)\n",
    "total_url"
   ]
  },
  {
   "cell_type": "code",
   "execution_count": 311,
   "metadata": {},
   "outputs": [],
   "source": [
    "from selenium.webdriver.common.keys import Keys\n",
    "from selenium.webdriver.common.action_chains import ActionChains\n",
    "from selenium import webdriver\n",
    "from selenium.webdriver.common.keys import Keys\n",
    "import time\n",
    "\n",
    "url = 'https://twitter.com/'\n",
    "user = 'scarlett_jo'\n",
    "total_url = str(url + user)\n",
    "path = r'C:\\Program Files\\ChromeDriver\\chromedriver.exe'\n",
    "driver = webdriver.Chrome(path)\n",
    "#response = requests.get(total_url) #Este para peticion normal\n",
    "driver.get(total_url) #Este es para selenium\n",
    "time.sleep(2)\n",
    "page_source = driver.page_source\n",
    "driver.close()\n",
    "response\n",
    "world_selection = BeautifulSoup(page_source, 'html') #world_selection = BeautifulSoup(page_source, 'lxml')\n",
    "total_tweets_new = world_selection.select('div[class=\\\"css-901oao css-bfa6kz r-14j79pv r-37j5jr r-n6v787 r-16dba41 r-1cwl3u0 r-bcqeeo r-qvutc0\\\"]')\n"
   ]
  },
  {
   "cell_type": "code",
   "execution_count": 312,
   "metadata": {},
   "outputs": [
    {
     "data": {
      "text/plain": [
       "[<div class=\"css-901oao css-bfa6kz r-14j79pv r-37j5jr r-n6v787 r-16dba41 r-1cwl3u0 r-bcqeeo r-qvutc0\" dir=\"auto\">846 Tweets</div>,\n",
       " <div class=\"css-901oao css-bfa6kz r-14j79pv r-37j5jr r-n6v787 r-16dba41 r-1cwl3u0 r-bcqeeo r-qvutc0\" dir=\"auto\"><span class=\"css-901oao css-16my406 r-poiln3 r-bcqeeo r-qvutc0\">NFL</span></div>,\n",
       " <div class=\"css-901oao css-bfa6kz r-14j79pv r-37j5jr r-n6v787 r-16dba41 r-1cwl3u0 r-bcqeeo r-qvutc0\" dir=\"auto\"><span class=\"css-901oao css-16my406 r-poiln3 r-bcqeeo r-qvutc0\">Last night</span></div>,\n",
       " <div class=\"css-901oao css-bfa6kz r-14j79pv r-37j5jr r-n6v787 r-16dba41 r-1cwl3u0 r-bcqeeo r-qvutc0\" dir=\"auto\"><span class=\"css-901oao css-16my406 r-poiln3 r-bcqeeo r-qvutc0\">5 hours ago</span></div>,\n",
       " <div class=\"css-901oao css-bfa6kz r-14j79pv r-37j5jr r-n6v787 r-16dba41 r-1cwl3u0 r-bcqeeo r-qvutc0\" dir=\"auto\"><span class=\"css-901oao css-16my406 r-poiln3 r-bcqeeo r-qvutc0\">Yesterday</span></div>]"
      ]
     },
     "execution_count": 312,
     "metadata": {},
     "output_type": "execute_result"
    }
   ],
   "source": [
    "total_tweets_new"
   ]
  },
  {
   "cell_type": "code",
   "execution_count": null,
   "metadata": {},
   "outputs": [],
   "source": [
    "clean_data = [i.text.split() for i in total_tweets_new]\n",
    "return print(\"The user \", user, \"has: \", (clean_data[0]), \"Followers\")"
   ]
  },
  {
   "cell_type": "code",
   "execution_count": 308,
   "metadata": {},
   "outputs": [],
   "source": [
    "#your code\n",
    "def user_tweets(user):\n",
    "        try: \n",
    "            from selenium.webdriver.common.keys import Keys\n",
    "            from selenium.webdriver.common.action_chains import ActionChains\n",
    "            from selenium import webdriver\n",
    "            from selenium.webdriver.common.keys import Keys\n",
    "            import time\n",
    "\n",
    "            url = 'https://twitter.com/'\n",
    "            user = 'scarlett_jo'\n",
    "            total_url = str(url + user)\n",
    "            path = r'C:\\Program Files\\ChromeDriver\\chromedriver.exe'\n",
    "            driver = webdriver.Chrome(path)\n",
    "            #response = requests.get(total_url) #Este para peticion normal\n",
    "            driver.get(total_url) #Este es para selenium\n",
    "            time.sleep(2)\n",
    "            page_source = driver.page_source\n",
    "            driver.close()\n",
    "            response\n",
    "            world_selection = BeautifulSoup(page_source, 'html') #world_selection = BeautifulSoup(page_source, 'lxml')\n",
    "            total_tweets_new = world_selection.select('div[class=\\\"css-1dbjc4n\\\"]>a>span>span')\n",
    "            clean_data = [i.text.split() for i in total_tweets_new]\n",
    "            return print(\"The user \", user, \"has: \", (clean_data[0]), \"Followers\")\n",
    "\n",
    "        except ValueError:\n",
    "            return print(\"User doesn't exist\")"
   ]
  },
  {
   "cell_type": "code",
   "execution_count": 309,
   "metadata": {},
   "outputs": [
    {
     "name": "stdout",
     "output_type": "stream",
     "text": [
      "The user  scarlett_jo has:  ['173.5K'] Followers\n"
     ]
    }
   ],
   "source": [
    "user_tweets('scarlett_jo')"
   ]
  },
  {
   "cell_type": "markdown",
   "metadata": {},
   "source": [
    "#### Number of followers of a given twitter account"
   ]
  },
  {
   "cell_type": "markdown",
   "metadata": {},
   "source": [
    "You will need to include a ***try/except block*** in case account/s name not found. \n",
    "<br>***Hint:*** the program should count the followers for any provided account"
   ]
  },
  {
   "cell_type": "code",
   "execution_count": null,
   "metadata": {},
   "outputs": [],
   "source": [
    "# This is the url you will scrape in this exercise \n",
    "# You will need to add the account credentials to this url\n",
    "url = 'https://twitter.com/'"
   ]
  },
  {
   "cell_type": "code",
   "execution_count": 310,
   "metadata": {},
   "outputs": [
    {
     "name": "stdout",
     "output_type": "stream",
     "text": [
      "The user  scarlett_jo has:  ['173.5K'] Followers\n"
     ]
    }
   ],
   "source": [
    "#your code\n",
    "def user_tweets(user):\n",
    "        try: \n",
    "            from selenium.webdriver.common.keys import Keys\n",
    "            from selenium.webdriver.common.action_chains import ActionChains\n",
    "            from selenium import webdriver\n",
    "            from selenium.webdriver.common.keys import Keys\n",
    "            import time\n",
    "\n",
    "            url = 'https://twitter.com/'\n",
    "            total_url = str(url + user)\n",
    "            path = r'C:\\Program Files\\ChromeDriver\\chromedriver.exe'\n",
    "            driver = webdriver.Chrome(path)\n",
    "            #response = requests.get(total_url) #Este para peticion normal\n",
    "            driver.get(total_url) #Este es para selenium\n",
    "            time.sleep(2)\n",
    "            page_source = driver.page_source\n",
    "            driver.close()\n",
    "            response\n",
    "            world_selection = BeautifulSoup(page_source, 'html') #world_selection = BeautifulSoup(page_source, 'lxml')\n",
    "            total_tweets_new = world_selection.select('div[class=\\\"css-1dbjc4n\\\"]>a>span>span')\n",
    "            clean_data = [i.text.split() for i in total_tweets_new]\n",
    "            return print(\"The user \", user, \"has: \", (clean_data[0]), \"Followers\")\n",
    "\n",
    "        except ValueError:\n",
    "            return print(\"User doesn't exist\")"
   ]
  },
  {
   "cell_type": "code",
   "execution_count": null,
   "metadata": {},
   "outputs": [],
   "source": [
    "user_tweets('scarlett_jo')"
   ]
  },
  {
   "cell_type": "markdown",
   "metadata": {},
   "source": [
    "#### List all language names and number of related articles in the order they appear in wikipedia.org"
   ]
  },
  {
   "cell_type": "code",
   "execution_count": null,
   "metadata": {},
   "outputs": [],
   "source": [
    "# This is the url you will scrape in this exercise\n",
    "url = 'https://www.wikipedia.org/'"
   ]
  },
  {
   "cell_type": "code",
   "execution_count": 386,
   "metadata": {},
   "outputs": [],
   "source": [
    "#your code\n",
    "\n",
    "def link_scan(url):\n",
    "        try: \n",
    "            from selenium.webdriver.common.keys import Keys\n",
    "            from selenium.webdriver.common.action_chains import ActionChains\n",
    "            from selenium import webdriver\n",
    "            from selenium.webdriver.common.keys import Keys\n",
    "            import time\n",
    "            import pandas as pd\n",
    "\n",
    "            path = r'C:\\Program Files\\ChromeDriver\\chromedriver.exe'\n",
    "            driver = webdriver.Chrome(path)\n",
    "            #response = requests.get(total_url) #Este para peticion normal\n",
    "            driver.get('https://www.wikipedia.org/') #Este es para selenium\n",
    "            time.sleep(2)\n",
    "            page_source = driver.page_source\n",
    "            driver.close()\n",
    "            response\n",
    "            world_selection = BeautifulSoup(page_source, 'html') #world_selection = BeautifulSoup(page_source, 'lxml')\n",
    "            #Clean de Languages\n",
    "            languages = world_selection.select('a strong')\n",
    "            languages_clean = [(i.text.split()) for i in languages]\n",
    "            #Clean de Articles\n",
    "            articles = world_selection.select('a small')\n",
    "            articles_clean = [(i.text.split()) for i in articles]\n",
    "            final_articles = [(articles_clean[i][0] + articles_clean[i][1] + articles_clean[i][2]) for i in range(len(articles_clean))]\n",
    "            final_respuesta = [(str(languages_clean[i]) + final_articles[i]) for i in range(len(articles_clean)) ]       \n",
    "            nice_panda = pd.DataFrame(zip(languages_clean,final_articles),columns =['Language','Articles'])\n",
    "            return nice_panda\n",
    "        except ValueError:\n",
    "            return print(\"Peticion sin exito\")"
   ]
  },
  {
   "cell_type": "code",
   "execution_count": 387,
   "metadata": {},
   "outputs": [],
   "source": [
    "link_scaned = link_scan('https://www.wikipedia.org/')\n"
   ]
  },
  {
   "cell_type": "code",
   "execution_count": 388,
   "metadata": {},
   "outputs": [
    {
     "name": "stdout",
     "output_type": "stream",
     "text": [
      "      Language  Articles\n",
      "0    [English]  6326000+\n",
      "1        [日本語]  1275000+\n",
      "2    [Español]  1696000+\n",
      "3    [Deutsch]  2590000+\n",
      "4    [Русский]  1734000+\n",
      "5   [Français]  2340000+\n",
      "6         [中文]  1206000+\n",
      "7   [Italiano]  1701000+\n",
      "8  [Português]  1066000+\n",
      "9     [Polski]  1480000+\n"
     ]
    }
   ],
   "source": [
    "print(link_scaned)"
   ]
  },
  {
   "cell_type": "markdown",
   "metadata": {},
   "source": [
    "#### A list with the different kind of datasets available in data.gov.uk "
   ]
  },
  {
   "cell_type": "code",
   "execution_count": null,
   "metadata": {},
   "outputs": [],
   "source": [
    "# This is the url you will scrape in this exercise\n",
    "url = 'https://data.gov.uk/'"
   ]
  },
  {
   "cell_type": "code",
   "execution_count": null,
   "metadata": {},
   "outputs": [],
   "source": [
    "#your code "
   ]
  },
  {
   "cell_type": "markdown",
   "metadata": {},
   "source": [
    "#### Top 10 languages by number of native speakers stored in a Pandas Dataframe"
   ]
  },
  {
   "cell_type": "code",
   "execution_count": null,
   "metadata": {},
   "outputs": [],
   "source": [
    "# This is the url you will scrape in this exercise\n",
    "url = 'https://en.wikipedia.org/wiki/List_of_languages_by_number_of_native_speakers'"
   ]
  },
  {
   "cell_type": "code",
   "execution_count": null,
   "metadata": {},
   "outputs": [],
   "source": [
    "#your code"
   ]
  },
  {
   "cell_type": "markdown",
   "metadata": {},
   "source": [
    "### BONUS QUESTIONS"
   ]
  },
  {
   "cell_type": "markdown",
   "metadata": {},
   "source": [
    "#### Scrape a certain number of tweets of a given Twitter account."
   ]
  },
  {
   "cell_type": "code",
   "execution_count": null,
   "metadata": {},
   "outputs": [],
   "source": [
    "# This is the url you will scrape in this exercise \n",
    "# You will need to add the account credentials to this url\n",
    "url = 'https://twitter.com/'"
   ]
  },
  {
   "cell_type": "code",
   "execution_count": null,
   "metadata": {},
   "outputs": [],
   "source": [
    "# your code"
   ]
  },
  {
   "cell_type": "markdown",
   "metadata": {},
   "source": [
    "#### IMDB's Top 250 data (movie name, Initial release, director name and stars) as a pandas dataframe"
   ]
  },
  {
   "cell_type": "code",
   "execution_count": null,
   "metadata": {},
   "outputs": [],
   "source": [
    "# This is the url you will scrape in this exercise \n",
    "url = 'https://www.imdb.com/chart/top'"
   ]
  },
  {
   "cell_type": "code",
   "execution_count": null,
   "metadata": {},
   "outputs": [],
   "source": [
    "# your code"
   ]
  },
  {
   "cell_type": "markdown",
   "metadata": {},
   "source": [
    "#### Movie name, year and a brief summary of the top 10 random movies (IMDB) as a pandas dataframe."
   ]
  },
  {
   "cell_type": "code",
   "execution_count": null,
   "metadata": {},
   "outputs": [],
   "source": [
    "#This is the url you will scrape in this exercise\n",
    "url = 'http://www.imdb.com/chart/top'"
   ]
  },
  {
   "cell_type": "code",
   "execution_count": null,
   "metadata": {},
   "outputs": [],
   "source": [
    "#your code"
   ]
  },
  {
   "cell_type": "markdown",
   "metadata": {},
   "source": [
    "#### Find the live weather report (temperature, wind speed, description and weather) of a given city."
   ]
  },
  {
   "cell_type": "code",
   "execution_count": null,
   "metadata": {},
   "outputs": [],
   "source": [
    "#https://openweathermap.org/current\n",
    "city = city=input('Enter the city:')\n",
    "url = 'http://api.openweathermap.org/data/2.5/weather?'+'q='+city+'&APPID=b35975e18dc93725acb092f7272cc6b8&units=metric'"
   ]
  },
  {
   "cell_type": "code",
   "execution_count": null,
   "metadata": {},
   "outputs": [],
   "source": [
    "# your code"
   ]
  },
  {
   "cell_type": "markdown",
   "metadata": {},
   "source": [
    "#### Book name,price and stock availability as a pandas dataframe."
   ]
  },
  {
   "cell_type": "code",
   "execution_count": null,
   "metadata": {},
   "outputs": [],
   "source": [
    "# This is the url you will scrape in this exercise. \n",
    "# It is a fictional bookstore created to be scraped. \n",
    "url = 'http://books.toscrape.com/'"
   ]
  },
  {
   "cell_type": "code",
   "execution_count": null,
   "metadata": {},
   "outputs": [],
   "source": [
    "#your code"
   ]
  }
 ],
 "metadata": {
  "kernelspec": {
   "display_name": "Python 3",
   "language": "python",
   "name": "python3"
  },
  "language_info": {
   "codemirror_mode": {
    "name": "ipython",
    "version": 3
   },
   "file_extension": ".py",
   "mimetype": "text/x-python",
   "name": "python",
   "nbconvert_exporter": "python",
   "pygments_lexer": "ipython3",
   "version": "3.8.8"
  }
 },
 "nbformat": 4,
 "nbformat_minor": 2
}
